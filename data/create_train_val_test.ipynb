{
 "cells": [
  {
   "cell_type": "code",
   "execution_count": 23,
   "id": "0fc6da8e",
   "metadata": {},
   "outputs": [
    {
     "name": "stdout",
     "output_type": "stream",
     "text": [
      "Requirement already satisfied: datasets in /Users/nathanielalexis/anaconda3/lib/python3.9/site-packages (2.12.0)\n",
      "Requirement already satisfied: transformers in /Users/nathanielalexis/anaconda3/lib/python3.9/site-packages (4.32.1)\n",
      "Requirement already satisfied: huggingface_hub in /Users/nathanielalexis/anaconda3/lib/python3.9/site-packages (0.15.1)\n",
      "Requirement already satisfied: numpy>=1.17 in /Users/nathanielalexis/anaconda3/lib/python3.9/site-packages (from datasets) (1.24.3)\n",
      "Requirement already satisfied: pyarrow>=8.0.0 in /Users/nathanielalexis/anaconda3/lib/python3.9/site-packages (from datasets) (11.0.0)\n",
      "Requirement already satisfied: dill<0.3.7,>=0.3.0 in /Users/nathanielalexis/anaconda3/lib/python3.9/site-packages (from datasets) (0.3.6)\n",
      "Requirement already satisfied: pandas in /Users/nathanielalexis/anaconda3/lib/python3.9/site-packages (from datasets) (2.0.3)\n",
      "Requirement already satisfied: requests>=2.19.0 in /Users/nathanielalexis/anaconda3/lib/python3.9/site-packages (from datasets) (2.31.0)\n",
      "Requirement already satisfied: tqdm>=4.62.1 in /Users/nathanielalexis/anaconda3/lib/python3.9/site-packages (from datasets) (4.65.0)\n",
      "Requirement already satisfied: xxhash in /Users/nathanielalexis/anaconda3/lib/python3.9/site-packages (from datasets) (2.0.2)\n",
      "Requirement already satisfied: multiprocess in /Users/nathanielalexis/anaconda3/lib/python3.9/site-packages (from datasets) (0.70.14)\n",
      "Requirement already satisfied: fsspec[http]>=2021.11.1 in /Users/nathanielalexis/anaconda3/lib/python3.9/site-packages (from datasets) (2023.4.0)\n",
      "Requirement already satisfied: aiohttp in /Users/nathanielalexis/anaconda3/lib/python3.9/site-packages (from datasets) (3.8.5)\n",
      "Requirement already satisfied: packaging in /Users/nathanielalexis/anaconda3/lib/python3.9/site-packages (from datasets) (23.1)\n",
      "Requirement already satisfied: responses<0.19 in /Users/nathanielalexis/anaconda3/lib/python3.9/site-packages (from datasets) (0.13.3)\n",
      "Requirement already satisfied: pyyaml>=5.1 in /Users/nathanielalexis/anaconda3/lib/python3.9/site-packages (from datasets) (6.0)\n",
      "Requirement already satisfied: filelock in /Users/nathanielalexis/anaconda3/lib/python3.9/site-packages (from transformers) (3.9.0)\n",
      "Requirement already satisfied: regex!=2019.12.17 in /Users/nathanielalexis/anaconda3/lib/python3.9/site-packages (from transformers) (2022.7.9)\n",
      "Requirement already satisfied: tokenizers!=0.11.3,<0.14,>=0.11.1 in /Users/nathanielalexis/anaconda3/lib/python3.9/site-packages (from transformers) (0.13.2)\n",
      "Requirement already satisfied: safetensors>=0.3.1 in /Users/nathanielalexis/anaconda3/lib/python3.9/site-packages (from transformers) (0.3.2)\n",
      "Requirement already satisfied: typing-extensions>=3.7.4.3 in /Users/nathanielalexis/anaconda3/lib/python3.9/site-packages (from huggingface_hub) (4.7.1)\n",
      "Requirement already satisfied: attrs>=17.3.0 in /Users/nathanielalexis/anaconda3/lib/python3.9/site-packages (from aiohttp->datasets) (22.1.0)\n",
      "Requirement already satisfied: charset-normalizer<4.0,>=2.0 in /Users/nathanielalexis/anaconda3/lib/python3.9/site-packages (from aiohttp->datasets) (2.0.4)\n",
      "Requirement already satisfied: multidict<7.0,>=4.5 in /Users/nathanielalexis/anaconda3/lib/python3.9/site-packages (from aiohttp->datasets) (6.0.2)\n",
      "Requirement already satisfied: async-timeout<5.0,>=4.0.0a3 in /Users/nathanielalexis/anaconda3/lib/python3.9/site-packages (from aiohttp->datasets) (4.0.2)\n",
      "Requirement already satisfied: yarl<2.0,>=1.0 in /Users/nathanielalexis/anaconda3/lib/python3.9/site-packages (from aiohttp->datasets) (1.8.1)\n",
      "Requirement already satisfied: frozenlist>=1.1.1 in /Users/nathanielalexis/anaconda3/lib/python3.9/site-packages (from aiohttp->datasets) (1.3.3)\n",
      "Requirement already satisfied: aiosignal>=1.1.2 in /Users/nathanielalexis/anaconda3/lib/python3.9/site-packages (from aiohttp->datasets) (1.2.0)\n",
      "Requirement already satisfied: idna<4,>=2.5 in /Users/nathanielalexis/anaconda3/lib/python3.9/site-packages (from requests>=2.19.0->datasets) (3.4)\n",
      "Requirement already satisfied: urllib3<3,>=1.21.1 in /Users/nathanielalexis/anaconda3/lib/python3.9/site-packages (from requests>=2.19.0->datasets) (1.26.16)\n",
      "Requirement already satisfied: certifi>=2017.4.17 in /Users/nathanielalexis/anaconda3/lib/python3.9/site-packages (from requests>=2.19.0->datasets) (2023.7.22)\n",
      "Requirement already satisfied: six in /Users/nathanielalexis/anaconda3/lib/python3.9/site-packages (from responses<0.19->datasets) (1.16.0)\n",
      "Requirement already satisfied: python-dateutil>=2.8.2 in /Users/nathanielalexis/anaconda3/lib/python3.9/site-packages (from pandas->datasets) (2.8.2)\n",
      "Requirement already satisfied: pytz>=2020.1 in /Users/nathanielalexis/anaconda3/lib/python3.9/site-packages (from pandas->datasets) (2023.3.post1)\n",
      "Requirement already satisfied: tzdata>=2022.1 in /Users/nathanielalexis/anaconda3/lib/python3.9/site-packages (from pandas->datasets) (2023.3)\n"
     ]
    }
   ],
   "source": [
    "import torch\n",
    "import numpy as np\n",
    "import random\n",
    "random.seed(0)\n",
    "np.random.seed(0)\n",
    "!pip install datasets transformers huggingface_hub\n",
    "from datasets import load_dataset"
   ]
  },
  {
   "cell_type": "code",
   "execution_count": 24,
   "id": "c721869b",
   "metadata": {},
   "outputs": [
    {
     "name": "stderr",
     "output_type": "stream",
     "text": [
      "Found cached dataset generics_kb (/Users/nathanielalexis/.cache/huggingface/datasets/generics_kb/generics_kb/1.0.0/9b41cde494db24f842a9260588bcfb2e3a257364568666ef240e98c70fb0e709)\n"
     ]
    },
    {
     "data": {
      "application/vnd.jupyter.widget-view+json": {
       "model_id": "bb2f403f02ea4fac9e6c81d9513742fd",
       "version_major": 2,
       "version_minor": 0
      },
      "text/plain": [
       "  0%|          | 0/1 [00:00<?, ?it/s]"
      ]
     },
     "metadata": {},
     "output_type": "display_data"
    },
    {
     "name": "stdout",
     "output_type": "stream",
     "text": [
      "Additional support is provided through merchandising, group tours and affinity programs.\n"
     ]
    }
   ],
   "source": [
    "imdb = load_dataset(\"generics_kb\", name = 'generics_kb')\n",
    "print(imdb['train'][38994]['generic_sentence'])"
   ]
  },
  {
   "cell_type": "code",
   "execution_count": 25,
   "id": "049cd6fc",
   "metadata": {},
   "outputs": [],
   "source": [
    "perm = np.random.permutation(len(imdb['train'])-1)\n",
    "vector = np.arange(1, len(imdb['train']))[perm]\n",
    "\n",
    "train_indices = vector[:250000].tolist()\n",
    "val_indices = vector[250000:275000].tolist()\n",
    "test_indices = vector[275000:275100].tolist()"
   ]
  },
  {
   "cell_type": "code",
   "execution_count": 26,
   "id": "0a44a0bb",
   "metadata": {},
   "outputs": [
    {
     "data": {
      "text/plain": [
       "<module 'data_funcs' from '/Users/nathanielalexis/Desktop/cs182/YodaNLP/data/data_funcs.py'>"
      ]
     },
     "execution_count": 26,
     "metadata": {},
     "output_type": "execute_result"
    }
   ],
   "source": [
    "import data_funcs as df\n",
    "import importlib\n",
    "importlib.reload(df)"
   ]
  },
  {
   "cell_type": "code",
   "execution_count": 27,
   "id": "9e0c210d",
   "metadata": {},
   "outputs": [],
   "source": [
    "def writeData(indices, filename):\n",
    "    dataset = df.get_dataset()\n",
    "    data = df.format_data_yoda(dataset, indices)\n",
    "    with open(filename, 'w') as file:\n",
    "        for d in data:\n",
    "            file.write(d+'\\n')"
   ]
  },
  {
   "cell_type": "code",
   "execution_count": 28,
   "id": "1199b029",
   "metadata": {},
   "outputs": [
    {
     "name": "stderr",
     "output_type": "stream",
     "text": [
      "Found cached dataset generics_kb (/Users/nathanielalexis/.cache/huggingface/datasets/generics_kb/generics_kb/1.0.0/9b41cde494db24f842a9260588bcfb2e3a257364568666ef240e98c70fb0e709)\n"
     ]
    },
    {
     "data": {
      "application/vnd.jupyter.widget-view+json": {
       "model_id": "0e28f86382bc4d82a0b68951d5591d7a",
       "version_major": 2,
       "version_minor": 0
      },
      "text/plain": [
       "  0%|          | 0/1 [00:00<?, ?it/s]"
      ]
     },
     "metadata": {},
     "output_type": "display_data"
    }
   ],
   "source": [
    "test_dataset = df.get_dataset()\n",
    "test_data = df.format_data_user(test_dataset, test_indices)\n",
    "with open('test_data_final.txt', 'w') as file:\n",
    "    for d in test_data[:-1]:\n",
    "        file.write(d)\n",
    "    file.write(test_data[-1][:-2])"
   ]
  },
  {
   "cell_type": "code",
   "execution_count": null,
   "id": "917014d5",
   "metadata": {},
   "outputs": [
    {
     "name": "stderr",
     "output_type": "stream",
     "text": [
      "Found cached dataset generics_kb (/Users/nathanielalexis/.cache/huggingface/datasets/generics_kb/generics_kb/1.0.0/9b41cde494db24f842a9260588bcfb2e3a257364568666ef240e98c70fb0e709)\n"
     ]
    },
    {
     "data": {
      "application/vnd.jupyter.widget-view+json": {
       "model_id": "1b12e25352e9434281159de4d52f1c22",
       "version_major": 2,
       "version_minor": 0
      },
      "text/plain": [
       "  0%|          | 0/1 [00:00<?, ?it/s]"
      ]
     },
     "metadata": {},
     "output_type": "display_data"
    }
   ],
   "source": [
    "writeData(val_indices, 'val_data_final.txt')"
   ]
  },
  {
   "cell_type": "code",
   "execution_count": null,
   "id": "9ea2d0c1",
   "metadata": {},
   "outputs": [],
   "source": [
    "writeData(train_indices, 'train_data_final.txt')"
   ]
  },
  {
   "cell_type": "code",
   "execution_count": null,
   "id": "ebb1323f",
   "metadata": {},
   "outputs": [],
   "source": [
    "y_indices = vector[410000:535000].tolist()\n",
    "h_indices = vector[535000:660000].tolist()\n",
    "dataset = df.get_dataset()\n",
    "yoda_data = df.format_data_yoda(dataset, y_indices)\n",
    "human_data = df.format_data_human(dataset, h_indices)"
   ]
  },
  {
   "cell_type": "code",
   "execution_count": null,
   "id": "634fbda9",
   "metadata": {},
   "outputs": [],
   "source": [
    "count = 0\n",
    "with open('yoda_human.txt', 'w') as file:\n",
    "    while count < min(len(yoda_data), len(human_data)):\n",
    "        file.write(yoda_data[count]+'\\n')\n",
    "        file.write(human_data[count]+'\\n')\n",
    "        count += 1"
   ]
  },
  {
   "cell_type": "code",
   "execution_count": null,
   "id": "4d75f614",
   "metadata": {},
   "outputs": [],
   "source": []
  }
 ],
 "metadata": {
  "kernelspec": {
   "display_name": "Python 3 (ipykernel)",
   "language": "python",
   "name": "python3"
  },
  "language_info": {
   "codemirror_mode": {
    "name": "ipython",
    "version": 3
   },
   "file_extension": ".py",
   "mimetype": "text/x-python",
   "name": "python",
   "nbconvert_exporter": "python",
   "pygments_lexer": "ipython3",
   "version": "3.9.18"
  }
 },
 "nbformat": 4,
 "nbformat_minor": 5
}
