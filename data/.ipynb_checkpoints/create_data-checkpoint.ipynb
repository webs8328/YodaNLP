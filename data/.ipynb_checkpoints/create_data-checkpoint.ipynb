{
 "cells": [
  {
   "cell_type": "code",
   "execution_count": 8,
   "metadata": {},
   "outputs": [],
   "source": [
    "import torch"
   ]
  },
  {
   "cell_type": "code",
   "execution_count": 10,
   "metadata": {},
   "outputs": [
    {
     "name": "stdout",
     "output_type": "stream",
     "text": [
      "Collecting datasets\n",
      "  Downloading datasets-2.15.0-py3-none-any.whl (521 kB)\n",
      "\u001b[K     |████████████████████████████████| 521 kB 1.6 MB/s eta 0:00:01\n",
      "\u001b[?25hCollecting transformers\n",
      "  Downloading transformers-4.35.2-py3-none-any.whl (7.9 MB)\n",
      "\u001b[K     |████████████████████████████████| 7.9 MB 6.2 MB/s eta 0:00:01\n",
      "\u001b[?25hCollecting huggingface_hub\n",
      "  Downloading huggingface_hub-0.19.4-py3-none-any.whl (311 kB)\n",
      "\u001b[K     |████████████████████████████████| 311 kB 5.3 MB/s eta 0:00:01\n",
      "\u001b[?25hCollecting dill<0.3.8,>=0.3.0\n",
      "  Downloading dill-0.3.7-py3-none-any.whl (115 kB)\n",
      "\u001b[K     |████████████████████████████████| 115 kB 6.9 MB/s eta 0:00:01\n",
      "\u001b[?25hRequirement already satisfied: numpy>=1.17 in /home/webs8328/.local/lib/python3.8/site-packages (from datasets) (1.24.1)\n",
      "Collecting aiohttp\n",
      "  Downloading aiohttp-3.9.0-cp38-cp38-manylinux_2_17_x86_64.manylinux2014_x86_64.whl (1.3 MB)\n",
      "\u001b[K     |████████████████████████████████| 1.3 MB 5.7 MB/s eta 0:00:01\n",
      "\u001b[?25hRequirement already satisfied: pyyaml>=5.1 in /usr/lib/python3/dist-packages (from datasets) (5.3.1)\n",
      "Requirement already satisfied: requests>=2.19.0 in /home/webs8328/.local/lib/python3.8/site-packages (from datasets) (2.31.0)\n",
      "Collecting xxhash\n",
      "  Downloading xxhash-3.4.1-cp38-cp38-manylinux_2_17_x86_64.manylinux2014_x86_64.whl (194 kB)\n",
      "\u001b[K     |████████████████████████████████| 194 kB 6.2 MB/s eta 0:00:01\n",
      "\u001b[?25hCollecting tqdm>=4.62.1\n",
      "  Downloading tqdm-4.66.1-py3-none-any.whl (78 kB)\n",
      "\u001b[K     |████████████████████████████████| 78 kB 3.8 MB/s eta 0:00:01\n",
      "\u001b[?25hCollecting pyarrow-hotfix\n",
      "  Downloading pyarrow_hotfix-0.6-py3-none-any.whl (7.9 kB)\n",
      "Requirement already satisfied: fsspec[http]<=2023.10.0,>=2023.1.0 in /home/webs8328/.local/lib/python3.8/site-packages (from datasets) (2023.4.0)\n",
      "Collecting pyarrow>=8.0.0\n",
      "  Downloading pyarrow-14.0.1-cp38-cp38-manylinux_2_17_x86_64.manylinux2014_x86_64.whl (38.2 MB)\n",
      "\u001b[K     |████████████████████████████████| 38.2 MB 4.8 MB/s eta 0:00:01\n",
      "\u001b[?25hCollecting pandas\n",
      "  Downloading pandas-2.0.3-cp38-cp38-manylinux_2_17_x86_64.manylinux2014_x86_64.whl (12.4 MB)\n",
      "\u001b[K     |████████████████████████████████| 12.4 MB 280 kB/s eta 0:00:01\n",
      "\u001b[?25hCollecting multiprocess\n",
      "  Downloading multiprocess-0.70.15-py38-none-any.whl (132 kB)\n",
      "\u001b[K     |████████████████████████████████| 132 kB 5.7 MB/s eta 0:00:01\n",
      "\u001b[?25hRequirement already satisfied: packaging in /home/webs8328/.local/lib/python3.8/site-packages (from datasets) (23.2)\n",
      "Requirement already satisfied: filelock in /home/webs8328/.local/lib/python3.8/site-packages (from transformers) (3.9.0)\n",
      "Collecting safetensors>=0.3.1\n",
      "  Downloading safetensors-0.4.0-cp38-cp38-manylinux_2_17_x86_64.manylinux2014_x86_64.whl (1.3 MB)\n",
      "\u001b[K     |████████████████████████████████| 1.3 MB 5.3 MB/s eta 0:00:01\n",
      "\u001b[?25hCollecting tokenizers<0.19,>=0.14\n",
      "  Downloading tokenizers-0.15.0-cp38-cp38-manylinux_2_17_x86_64.manylinux2014_x86_64.whl (3.8 MB)\n",
      "\u001b[K     |████████████████████████████████| 3.8 MB 6.5 MB/s eta 0:00:01\n",
      "\u001b[?25hCollecting regex!=2019.12.17\n",
      "  Downloading regex-2023.10.3-cp38-cp38-manylinux_2_17_x86_64.manylinux2014_x86_64.whl (776 kB)\n",
      "\u001b[K     |████████████████████████████████| 776 kB 2.1 MB/s eta 0:00:01\n",
      "\u001b[?25hRequirement already satisfied: typing-extensions>=3.7.4.3 in /home/webs8328/.local/lib/python3.8/site-packages (from huggingface_hub) (4.8.0)\n",
      "Collecting async-timeout<5.0,>=4.0; python_version < \"3.11\"\n",
      "  Downloading async_timeout-4.0.3-py3-none-any.whl (5.7 kB)\n",
      "Collecting frozenlist>=1.1.1\n",
      "  Downloading frozenlist-1.4.0-cp38-cp38-manylinux_2_5_x86_64.manylinux1_x86_64.manylinux_2_17_x86_64.manylinux2014_x86_64.whl (220 kB)\n",
      "\u001b[K     |████████████████████████████████| 220 kB 36.1 MB/s eta 0:00:01\n",
      "\u001b[?25hCollecting yarl<2.0,>=1.0\n",
      "  Downloading yarl-1.9.3-cp38-cp38-manylinux_2_17_x86_64.manylinux2014_x86_64.whl (307 kB)\n",
      "\u001b[K     |████████████████████████████████| 307 kB 4.1 MB/s eta 0:00:01\n",
      "\u001b[?25hRequirement already satisfied: attrs>=17.3.0 in /home/webs8328/.local/lib/python3.8/site-packages (from aiohttp->datasets) (23.1.0)\n",
      "Collecting multidict<7.0,>=4.5\n",
      "  Downloading multidict-6.0.4-cp38-cp38-manylinux_2_17_x86_64.manylinux2014_x86_64.whl (121 kB)\n",
      "\u001b[K     |████████████████████████████████| 121 kB 6.9 MB/s eta 0:00:01\n",
      "\u001b[?25hCollecting aiosignal>=1.1.2\n",
      "  Downloading aiosignal-1.3.1-py3-none-any.whl (7.6 kB)\n",
      "Requirement already satisfied: certifi>=2017.4.17 in /usr/lib/python3/dist-packages (from requests>=2.19.0->datasets) (2019.11.28)\n",
      "Requirement already satisfied: urllib3<3,>=1.21.1 in /usr/lib/python3/dist-packages (from requests>=2.19.0->datasets) (1.25.8)\n",
      "Requirement already satisfied: charset-normalizer<4,>=2 in /home/webs8328/.local/lib/python3.8/site-packages (from requests>=2.19.0->datasets) (3.3.2)\n",
      "Requirement already satisfied: idna<4,>=2.5 in /usr/lib/python3/dist-packages (from requests>=2.19.0->datasets) (2.8)\n",
      "Collecting tzdata>=2022.1\n",
      "  Downloading tzdata-2023.3-py2.py3-none-any.whl (341 kB)\n",
      "\u001b[K     |████████████████████████████████| 341 kB 2.1 MB/s eta 0:00:01\n",
      "\u001b[?25hRequirement already satisfied: python-dateutil>=2.8.2 in /home/webs8328/.local/lib/python3.8/site-packages (from pandas->datasets) (2.8.2)\n",
      "Requirement already satisfied: pytz>=2020.1 in /home/webs8328/.local/lib/python3.8/site-packages (from pandas->datasets) (2023.3.post1)\n",
      "Requirement already satisfied: six>=1.5 in /usr/lib/python3/dist-packages (from python-dateutil>=2.8.2->pandas->datasets) (1.14.0)\n",
      "\u001b[31mERROR: huggingface-hub 0.19.4 has requirement fsspec>=2023.5.0, but you'll have fsspec 2023.4.0 which is incompatible.\u001b[0m\n",
      "Installing collected packages: dill, tqdm, huggingface-hub, async-timeout, frozenlist, multidict, yarl, aiosignal, aiohttp, xxhash, pyarrow-hotfix, pyarrow, tzdata, pandas, multiprocess, datasets, safetensors, tokenizers, regex, transformers\n",
      "Successfully installed aiohttp-3.9.0 aiosignal-1.3.1 async-timeout-4.0.3 datasets-2.15.0 dill-0.3.7 frozenlist-1.4.0 huggingface-hub-0.19.4 multidict-6.0.4 multiprocess-0.70.15 pandas-2.0.3 pyarrow-14.0.1 pyarrow-hotfix-0.6 regex-2023.10.3 safetensors-0.4.0 tokenizers-0.15.0 tqdm-4.66.1 transformers-4.35.2 tzdata-2023.3 xxhash-3.4.1 yarl-1.9.3\n"
     ]
    }
   ],
   "source": [
    "!pip install datasets transformers huggingface_hub\n",
    "\n"
   ]
  },
  {
   "cell_type": "code",
   "execution_count": 11,
   "metadata": {},
   "outputs": [],
   "source": [
    "from datasets import load_dataset\n"
   ]
  },
  {
   "cell_type": "code",
   "execution_count": 12,
   "metadata": {},
   "outputs": [
    {
     "data": {
      "application/vnd.jupyter.widget-view+json": {
       "model_id": "17b285ce94da4115af10ad438c4cb55f",
       "version_major": 2,
       "version_minor": 0
      },
      "text/plain": [
       "Downloading builder script:   0%|          | 0.00/8.64k [00:00<?, ?B/s]"
      ]
     },
     "metadata": {},
     "output_type": "display_data"
    },
    {
     "data": {
      "application/vnd.jupyter.widget-view+json": {
       "model_id": "968f05db80994d7f809d70d25bf86bb7",
       "version_major": 2,
       "version_minor": 0
      },
      "text/plain": [
       "Downloading readme:   0%|          | 0.00/11.9k [00:00<?, ?B/s]"
      ]
     },
     "metadata": {},
     "output_type": "display_data"
    },
    {
     "data": {
      "application/vnd.jupyter.widget-view+json": {
       "model_id": "640e95e43dad4973b842f2bf69b647d4",
       "version_major": 2,
       "version_minor": 0
      },
      "text/plain": [
       "Downloading data:   0%|          | 0.00/27.1M [00:00<?, ?B/s]"
      ]
     },
     "metadata": {},
     "output_type": "display_data"
    },
    {
     "data": {
      "application/vnd.jupyter.widget-view+json": {
       "model_id": "1fd3219ef3504b6cb9fc7f4a1630a3b9",
       "version_major": 2,
       "version_minor": 0
      },
      "text/plain": [
       "Generating train split:   0%|          | 0/1020868 [00:00<?, ? examples/s]"
      ]
     },
     "metadata": {},
     "output_type": "display_data"
    }
   ],
   "source": [
    "imdb = load_dataset(\"generics_kb\")\n",
    "\n"
   ]
  },
  {
   "cell_type": "code",
   "execution_count": 34,
   "metadata": {},
   "outputs": [],
   "source": [
    "#Code to generate Yoda Text from https://github.com/yevbar/Yoda-Script/blob/master/yoda.py\n",
    "import spacy\n",
    "punctuation = [',', '.', ';', '?']\n",
    "nlp = spacy.load(\"en_core_web_sm\")\n",
    "import en_core_web_sm\n",
    "nlp = en_core_web_sm.load()\n",
    "comma = nlp('Hello, World')[1]\n",
    "\n",
    "def sentify(text):\n",
    "    output = []\n",
    "    doc = nlp(text)\n",
    "    for sent in doc.sents:\n",
    "        sentence = []\n",
    "        end_punctuation = sent[-1]\n",
    "        for clause in clausify(sent[:-1]):\n",
    "            sentence.append(yodafy(clause))\n",
    "        sentence[-1].append(end_punctuation)\n",
    "        output.append(sentence)\n",
    "    return output\n",
    "\n",
    "def clausify(sent):\n",
    "    output = []\n",
    "    cur = []\n",
    "\n",
    "    prev_token = None\n",
    "    for token in sent:\n",
    "        if prev_token!= None and prev_token.dep_ == 'punct' and prev_token.text in punctuation and token.dep_ != \"amod\":\n",
    "            #(token.dep_ == 'cc' or (token.dep_ == 'punct' and token.text in punctuation)):\n",
    "            output.append(cur)\n",
    "            #output.append([token])\n",
    "            cur = [token]\n",
    "        else:\n",
    "            cur.append(token)\n",
    "        prev_token = token\n",
    "    if cur != []:\n",
    "        output.append(cur)\n",
    "    return output\n",
    "\n",
    "def yodafy(clause):\n",
    "    new_array = []\n",
    "    state = False\n",
    "    prev_token = None\n",
    "    flag = False\n",
    "    for token in clause:\n",
    "        if state:\n",
    "            new_array.append(token)\n",
    "        elif not state and prev_token != None and (prev_token.dep_ == \"ROOT\" or prev_token.dep_ == \"aux\") and token.dep_ != \"nsubj\" or flag:\n",
    "            state = True\n",
    "            new_array.append(token)\n",
    "        elif not state and prev_token != None and (prev_token.dep_ == \"ROOT\" or prev_token.dep_ == \"aux\"):\n",
    "            flag = True\n",
    "        prev_token = token\n",
    "    if len(new_array) > 0 and new_array[len(new_array)-1].dep_ != 'punct':\n",
    "        new_array.append(comma)\n",
    "    prev_token = None\n",
    "    for token in clause:\n",
    "        new_array.append(token)\n",
    "        if (token.dep_ == \"ROOT\" or token.dep_ == \"aux\") and flag == False:\n",
    "            break\n",
    "        elif prev_token != None and (prev_token.dep_ == \"ROOT\" or prev_token.dep_ == \"aux\") and flag:\n",
    "            break\n",
    "        prev_token = token\n",
    "    return new_array\n",
    "\n",
    "def yoda(string_):\n",
    "    string = []\n",
    "    #end_punctuation = string_[-1]\n",
    "    yodafied = sentify(string_)\n",
    "    for sentence in yodafied:\n",
    "        sentence_ = \"\"\n",
    "        for clause in sentence:\n",
    "            for token in clause:\n",
    "                if token.dep_ == 'NNP' or token.dep_ == 'NNPS' or token.text == 'I':\n",
    "                    sentence_ += token.text + \" \"\n",
    "                elif sentence_ == \"\" and token.dep_ == 'neg':\n",
    "                    sentence_ += \"Not\" + \" \"\n",
    "                elif sentence_ == \"\":\n",
    "                    sentence_ += token.text[0].upper() + token.text[1:] + \" \"\n",
    "                elif token.dep_ == 'punct':\n",
    "                    sentence_ = sentence_[:len(sentence_)-1] + token.text + \" \"\n",
    "                else:\n",
    "                    sentence_+=token.text.lower() + \" \"\n",
    "        string.append(sentence_)\n",
    "    return \"\".join(string) #+ end_punctuation"
   ]
  },
  {
   "cell_type": "code",
   "execution_count": 35,
   "metadata": {},
   "outputs": [
    {
     "data": {
      "text/plain": [
       "'Predominantly solitary and nocturnal, aardvarks are. '"
      ]
     },
     "execution_count": 35,
     "metadata": {},
     "output_type": "execute_result"
    }
   ],
   "source": [
    "yoda(\"Aardvarks are predominantly solitary and nocturnal.\")"
   ]
  },
  {
   "cell_type": "code",
   "execution_count": null,
   "metadata": {},
   "outputs": [],
   "source": []
  }
 ],
 "metadata": {
  "kernelspec": {
   "display_name": "Python 3 (ipykernel)",
   "language": "python",
   "name": "python3"
  },
  "language_info": {
   "codemirror_mode": {
    "name": "ipython",
    "version": 3
   },
   "file_extension": ".py",
   "mimetype": "text/x-python",
   "name": "python",
   "nbconvert_exporter": "python",
   "pygments_lexer": "ipython3",
   "version": "3.8.10"
  }
 },
 "nbformat": 4,
 "nbformat_minor": 4
}
