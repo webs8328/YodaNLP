{
 "cells": [
  {
   "cell_type": "code",
   "execution_count": 43,
   "id": "2eea15b8",
   "metadata": {},
   "outputs": [],
   "source": [
    "import LoRATuner as lt\n",
    "import importlib\n",
    "importlib.reload(lt)\n",
    "from transformers import GPT2LMHeadModel, GPT2Tokenizer, TextDataset, DataCollatorForLanguageModeling, Trainer, TrainingArguments, EvalPrediction, EarlyStoppingCallback\n"
   ]
  },
  {
   "cell_type": "code",
   "execution_count": 75,
   "id": "f09e7926",
   "metadata": {},
   "outputs": [],
   "source": [
    "# Sentences to test\n",
    "sentences = [\"User: Tell me about dinner.\", \"User: Tell me about Darth Vader.\"]\n",
    "sentences_yoda = [\"User: Tell me about dinner.\\nYoda:\", \"User: Tell me about Darth Vader.\\nYoda:\"]\n",
    "#seeds = [1, 2384, 124891]\n",
    "seeds = [2384, 4567]"
   ]
  },
  {
   "cell_type": "code",
   "execution_count": 76,
   "id": "6e6fb64a",
   "metadata": {},
   "outputs": [],
   "source": [
    "def run_inference(sentences, seeds, checkpoints, name):\n",
    "    pipelines = [lt.create_pipeline(name + i) for i in checkpoints]\n",
    "    for p in range(len(pipelines)):\n",
    "        for sent in sentences:\n",
    "            for s in seeds:\n",
    "                print(checkpoints[p])\n",
    "                print(s)\n",
    "                print(lt.get_response(pipelines[p], sent, s))"
   ]
  },
  {
   "cell_type": "markdown",
   "id": "0d41aff1",
   "metadata": {},
   "source": [
    "No Training Outputs"
   ]
  },
  {
   "cell_type": "code",
   "execution_count": 87,
   "id": "2e44a003",
   "metadata": {},
   "outputs": [],
   "source": [
    "#model = GPT2LMHeadModel.from_pretrained(model_name)\n",
    "#checkpoints = [\"checkpoint-2000\", \"checkpoint-4000\"]\n",
    "checkpoints = [\"checkpoint-100\"]"
   ]
  },
  {
   "cell_type": "markdown",
   "id": "73f29f3e",
   "metadata": {},
   "source": [
    "LoRA Rank 4 outputs:"
   ]
  },
  {
   "cell_type": "code",
   "execution_count": 90,
   "id": "7945beb3",
   "metadata": {
    "scrolled": false
   },
   "outputs": [
    {
     "name": "stderr",
     "output_type": "stream",
     "text": [
      "Setting `pad_token_id` to `eos_token_id`:50256 for open-end generation.\n"
     ]
    },
    {
     "name": "stdout",
     "output_type": "stream",
     "text": [
      "checkpoint-100\n",
      "2384\n"
     ]
    },
    {
     "name": "stderr",
     "output_type": "stream",
     "text": [
      "Setting `pad_token_id` to `eos_token_id`:50256 for open-end generation.\n"
     ]
    },
    {
     "name": "stdout",
     "output_type": "stream",
     "text": [
      "User: Tell me about dinner.\n",
      "\n",
      "Yup. At a barbecue, I'd ask about your favorite flavor.\n",
      "\n",
      "Yup. Just a little, like, the kind where it's like a chili chili, or the kind where it\n",
      "checkpoint-100\n",
      "4567\n"
     ]
    },
    {
     "name": "stderr",
     "output_type": "stream",
     "text": [
      "Setting `pad_token_id` to `eos_token_id`:50256 for open-end generation.\n"
     ]
    },
    {
     "name": "stdout",
     "output_type": "stream",
     "text": [
      "User: Tell me about dinner. *Nuff Said* *Says she thinks about dinner. *Nuff Say* If what I do is different, what am I getting from it, what am I get out of it. *Chuckles\n",
      "checkpoint-100\n",
      "2384\n"
     ]
    },
    {
     "name": "stderr",
     "output_type": "stream",
     "text": [
      "Setting `pad_token_id` to `eos_token_id`:50256 for open-end generation.\n"
     ]
    },
    {
     "name": "stdout",
     "output_type": "stream",
     "text": [
      "User: Tell me about Darth Vader. Edit\n",
      "\n",
      "Fusion:\n",
      "\n",
      "Fusion: You know how they call him \"the Vulture\"?\n",
      "\n",
      "Chernarus: I'm not a Vulture. Not a man. I'm not\n",
      "checkpoint-100\n",
      "4567\n",
      "User: Tell me about Darth Vader.\n",
      "\n",
      "S: Don't say so Darth. I'm not interested in his, I just want to know if he's capable. He was so awesome as a kid. He was like a Jedi, he\n"
     ]
    }
   ],
   "source": [
    "\n",
    "\n",
    "name2 = \"target_module_100_c_projc_attn/\"\n",
    "run_inference(sentences, seeds, checkpoints, name2)"
   ]
  },
  {
   "cell_type": "code",
   "execution_count": null,
   "id": "1a3f7494",
   "metadata": {},
   "outputs": [],
   "source": []
  }
 ],
 "metadata": {
  "kernelspec": {
   "display_name": "yodaNLP",
   "language": "python",
   "name": "yodanlp"
  },
  "language_info": {
   "codemirror_mode": {
    "name": "ipython",
    "version": 3
   },
   "file_extension": ".py",
   "mimetype": "text/x-python",
   "name": "python",
   "nbconvert_exporter": "python",
   "pygments_lexer": "ipython3",
   "version": "3.10.13"
  }
 },
 "nbformat": 4,
 "nbformat_minor": 5
}
