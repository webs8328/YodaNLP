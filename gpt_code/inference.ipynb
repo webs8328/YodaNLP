{
 "cells": [
  {
   "cell_type": "code",
   "execution_count": 1,
   "id": "2eea15b8",
   "metadata": {},
   "outputs": [
    {
     "data": {
      "text/plain": [
       "<module 'LoRATuner' from '/home/webs8328/cs182_proj/gpt_code/LoRATuner.py'>"
      ]
     },
     "execution_count": 1,
     "metadata": {},
     "output_type": "execute_result"
    }
   ],
   "source": [
    "import LoRATuner as lt\n",
    "import importlib\n",
    "importlib.reload(lt)\n",
    "from transformers import GPT2LMHeadModel, GPT2Tokenizer, TextDataset, DataCollatorForLanguageModeling, Trainer, TrainingArguments, EvalPrediction, EarlyStoppingCallback\n"
   ]
  },
  {
   "cell_type": "code",
   "execution_count": 4,
   "id": "f09e7926",
   "metadata": {},
   "outputs": [],
   "source": [
    "# Sentences to test\n",
    "sentences = [\"User: Tell me about dinner.\", \"User: Tell me about wind.\", \"User: Tell me about Darth Vader.\"]\n",
    "seeds = [1, 2384, 124891]"
   ]
  },
  {
   "cell_type": "code",
   "execution_count": null,
   "id": "6e6fb64a",
   "metadata": {},
   "outputs": [],
   "source": [
    "def run_inference(sentences, seeds, checkpoints, name):\n",
    "    pipelines = [lt.create_pipeline(name + i) for i in checkpoints]\n",
    "    for p in range(len(pipelines)):\n",
    "        for sent in sentences:\n",
    "            for s in seeds:\n",
    "                print(checkpoints[p])\n",
    "                print(lt.get_response(pipelines[p], sent, s)"
   ]
  },
  {
   "cell_type": "markdown",
   "id": "0d41aff1",
   "metadata": {},
   "source": [
    "No Training Outputs"
   ]
  },
  {
   "cell_type": "code",
   "execution_count": 6,
   "id": "2e44a003",
   "metadata": {},
   "outputs": [],
   "source": [
    "#model = GPT2LMHeadModel.from_pretrained(model_name)\n",
    "checkpoints = [\"checkpoint-1000\", \"checkpoint-2000\", \"checkpoint-3000\", \"checkpoint-4000\"]"
   ]
  },
  {
   "cell_type": "markdown",
   "id": "73f29f3e",
   "metadata": {},
   "source": [
    "LoRA Rank 4 outputs:"
   ]
  },
  {
   "cell_type": "code",
   "execution_count": null,
   "id": "7945beb3",
   "metadata": {},
   "outputs": [],
   "source": [
    "name = \"Attention_dim_4/\"\n",
    "run_inference(sentences, seeds, checkpoints, name)"
   ]
  }
 ],
 "metadata": {
  "kernelspec": {
   "display_name": "Python 3 (ipykernel)",
   "language": "python",
   "name": "python3"
  },
  "language_info": {
   "codemirror_mode": {
    "name": "ipython",
    "version": 3
   },
   "file_extension": ".py",
   "mimetype": "text/x-python",
   "name": "python",
   "nbconvert_exporter": "python",
   "pygments_lexer": "ipython3",
   "version": "3.8.10"
  }
 },
 "nbformat": 4,
 "nbformat_minor": 5
}
