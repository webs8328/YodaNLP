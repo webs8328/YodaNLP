{
 "cells": [
  {
   "cell_type": "code",
   "execution_count": 1,
   "id": "da40d16b",
   "metadata": {},
   "outputs": [
    {
     "name": "stdout",
     "output_type": "stream",
     "text": [
      "Requirement already satisfied: datasets in /home/webs8328/.local/lib/python3.8/site-packages (2.15.0)\n",
      "Requirement already satisfied: aiohttp in /home/webs8328/.local/lib/python3.8/site-packages (from datasets) (3.9.0)\n",
      "Requirement already satisfied: pyarrow>=8.0.0 in /home/webs8328/.local/lib/python3.8/site-packages (from datasets) (14.0.1)\n",
      "Requirement already satisfied: dill<0.3.8,>=0.3.0 in /home/webs8328/.local/lib/python3.8/site-packages (from datasets) (0.3.7)\n",
      "Requirement already satisfied: pyarrow-hotfix in /home/webs8328/.local/lib/python3.8/site-packages (from datasets) (0.6)\n",
      "Requirement already satisfied: tqdm>=4.62.1 in /home/webs8328/.local/lib/python3.8/site-packages (from datasets) (4.66.1)\n",
      "Requirement already satisfied: xxhash in /home/webs8328/.local/lib/python3.8/site-packages (from datasets) (3.4.1)\n",
      "Requirement already satisfied: packaging in /home/webs8328/.local/lib/python3.8/site-packages (from datasets) (23.2)\n",
      "Requirement already satisfied: pandas in /home/webs8328/.local/lib/python3.8/site-packages (from datasets) (2.0.3)\n",
      "Requirement already satisfied: numpy>=1.17 in /home/webs8328/.local/lib/python3.8/site-packages (from datasets) (1.24.1)\n",
      "Requirement already satisfied: multiprocess in /home/webs8328/.local/lib/python3.8/site-packages (from datasets) (0.70.15)\n",
      "Requirement already satisfied: fsspec[http]<=2023.10.0,>=2023.1.0 in /home/webs8328/.local/lib/python3.8/site-packages (from datasets) (2023.10.0)\n",
      "Requirement already satisfied: pyyaml>=5.1 in /usr/lib/python3/dist-packages (from datasets) (5.3.1)\n",
      "Requirement already satisfied: huggingface-hub>=0.18.0 in /home/webs8328/.local/lib/python3.8/site-packages (from datasets) (0.19.4)\n",
      "Requirement already satisfied: requests>=2.19.0 in /home/webs8328/.local/lib/python3.8/site-packages (from datasets) (2.31.0)\n",
      "Requirement already satisfied: async-timeout<5.0,>=4.0; python_version < \"3.11\" in /home/webs8328/.local/lib/python3.8/site-packages (from aiohttp->datasets) (4.0.3)\n",
      "Requirement already satisfied: attrs>=17.3.0 in /home/webs8328/.local/lib/python3.8/site-packages (from aiohttp->datasets) (23.1.0)\n",
      "Requirement already satisfied: frozenlist>=1.1.1 in /home/webs8328/.local/lib/python3.8/site-packages (from aiohttp->datasets) (1.4.0)\n",
      "Requirement already satisfied: aiosignal>=1.1.2 in /home/webs8328/.local/lib/python3.8/site-packages (from aiohttp->datasets) (1.3.1)\n",
      "Requirement already satisfied: yarl<2.0,>=1.0 in /home/webs8328/.local/lib/python3.8/site-packages (from aiohttp->datasets) (1.9.3)\n",
      "Requirement already satisfied: multidict<7.0,>=4.5 in /home/webs8328/.local/lib/python3.8/site-packages (from aiohttp->datasets) (6.0.4)\n",
      "Requirement already satisfied: python-dateutil>=2.8.2 in /home/webs8328/.local/lib/python3.8/site-packages (from pandas->datasets) (2.8.2)\n",
      "Requirement already satisfied: pytz>=2020.1 in /home/webs8328/.local/lib/python3.8/site-packages (from pandas->datasets) (2023.3.post1)\n",
      "Requirement already satisfied: tzdata>=2022.1 in /home/webs8328/.local/lib/python3.8/site-packages (from pandas->datasets) (2023.3)\n",
      "Requirement already satisfied: typing-extensions>=3.7.4.3 in /home/webs8328/.local/lib/python3.8/site-packages (from huggingface-hub>=0.18.0->datasets) (4.8.0)\n",
      "Requirement already satisfied: filelock in /home/webs8328/.local/lib/python3.8/site-packages (from huggingface-hub>=0.18.0->datasets) (3.9.0)\n",
      "Requirement already satisfied: charset-normalizer<4,>=2 in /home/webs8328/.local/lib/python3.8/site-packages (from requests>=2.19.0->datasets) (3.3.2)\n",
      "Requirement already satisfied: idna<4,>=2.5 in /usr/lib/python3/dist-packages (from requests>=2.19.0->datasets) (2.8)\n",
      "Requirement already satisfied: certifi>=2017.4.17 in /usr/lib/python3/dist-packages (from requests>=2.19.0->datasets) (2019.11.28)\n",
      "Requirement already satisfied: urllib3<3,>=1.21.1 in /home/webs8328/.local/lib/python3.8/site-packages (from requests>=2.19.0->datasets) (2.1.0)\n",
      "Requirement already satisfied: six>=1.5 in /usr/lib/python3/dist-packages (from python-dateutil>=2.8.2->pandas->datasets) (1.14.0)\n",
      "Requirement already satisfied: matplotlib in /home/webs8328/.local/lib/python3.8/site-packages (3.7.4)\n",
      "Requirement already satisfied: fonttools>=4.22.0 in /home/webs8328/.local/lib/python3.8/site-packages (from matplotlib) (4.45.1)\n",
      "Requirement already satisfied: cycler>=0.10 in /home/webs8328/.local/lib/python3.8/site-packages (from matplotlib) (0.12.1)\n",
      "Requirement already satisfied: pyparsing>=2.3.1 in /home/webs8328/.local/lib/python3.8/site-packages (from matplotlib) (3.1.1)\n",
      "Requirement already satisfied: contourpy>=1.0.1 in /home/webs8328/.local/lib/python3.8/site-packages (from matplotlib) (1.1.1)\n",
      "Requirement already satisfied: pillow>=6.2.0 in /home/webs8328/.local/lib/python3.8/site-packages (from matplotlib) (9.3.0)\n",
      "Requirement already satisfied: kiwisolver>=1.0.1 in /home/webs8328/.local/lib/python3.8/site-packages (from matplotlib) (1.4.5)\n",
      "Requirement already satisfied: python-dateutil>=2.7 in /home/webs8328/.local/lib/python3.8/site-packages (from matplotlib) (2.8.2)\n",
      "Requirement already satisfied: packaging>=20.0 in /home/webs8328/.local/lib/python3.8/site-packages (from matplotlib) (23.2)\n",
      "Requirement already satisfied: importlib-resources>=3.2.0; python_version < \"3.10\" in /home/webs8328/.local/lib/python3.8/site-packages (from matplotlib) (6.1.1)\n",
      "Requirement already satisfied: numpy<2,>=1.20 in /home/webs8328/.local/lib/python3.8/site-packages (from matplotlib) (1.24.1)\n",
      "Requirement already satisfied: six>=1.5 in /usr/lib/python3/dist-packages (from python-dateutil>=2.7->matplotlib) (1.14.0)\n",
      "Requirement already satisfied: zipp>=3.1.0; python_version < \"3.10\" in /home/webs8328/.local/lib/python3.8/site-packages (from importlib-resources>=3.2.0; python_version < \"3.10\"->matplotlib) (3.17.0)\n",
      "Requirement already satisfied: evaluate in /home/webs8328/.local/lib/python3.8/site-packages (0.4.1)\n",
      "Requirement already satisfied: tqdm>=4.62.1 in /home/webs8328/.local/lib/python3.8/site-packages (from evaluate) (4.66.1)\n",
      "Requirement already satisfied: responses<0.19 in /home/webs8328/.local/lib/python3.8/site-packages (from evaluate) (0.18.0)\n",
      "Requirement already satisfied: multiprocess in /home/webs8328/.local/lib/python3.8/site-packages (from evaluate) (0.70.15)\n",
      "Requirement already satisfied: packaging in /home/webs8328/.local/lib/python3.8/site-packages (from evaluate) (23.2)\n",
      "Requirement already satisfied: pandas in /home/webs8328/.local/lib/python3.8/site-packages (from evaluate) (2.0.3)\n",
      "Requirement already satisfied: huggingface-hub>=0.7.0 in /home/webs8328/.local/lib/python3.8/site-packages (from evaluate) (0.19.4)\n",
      "Requirement already satisfied: datasets>=2.0.0 in /home/webs8328/.local/lib/python3.8/site-packages (from evaluate) (2.15.0)\n",
      "Requirement already satisfied: fsspec[http]>=2021.05.0 in /home/webs8328/.local/lib/python3.8/site-packages (from evaluate) (2023.10.0)\n",
      "Requirement already satisfied: dill in /home/webs8328/.local/lib/python3.8/site-packages (from evaluate) (0.3.7)\n",
      "Requirement already satisfied: numpy>=1.17 in /home/webs8328/.local/lib/python3.8/site-packages (from evaluate) (1.24.1)\n",
      "Requirement already satisfied: requests>=2.19.0 in /home/webs8328/.local/lib/python3.8/site-packages (from evaluate) (2.31.0)\n",
      "Requirement already satisfied: xxhash in /home/webs8328/.local/lib/python3.8/site-packages (from evaluate) (3.4.1)\n",
      "Requirement already satisfied: urllib3>=1.25.10 in /home/webs8328/.local/lib/python3.8/site-packages (from responses<0.19->evaluate) (2.1.0)\n",
      "Requirement already satisfied: python-dateutil>=2.8.2 in /home/webs8328/.local/lib/python3.8/site-packages (from pandas->evaluate) (2.8.2)\n",
      "Requirement already satisfied: tzdata>=2022.1 in /home/webs8328/.local/lib/python3.8/site-packages (from pandas->evaluate) (2023.3)\n",
      "Requirement already satisfied: pytz>=2020.1 in /home/webs8328/.local/lib/python3.8/site-packages (from pandas->evaluate) (2023.3.post1)\n",
      "Requirement already satisfied: pyyaml>=5.1 in /usr/lib/python3/dist-packages (from huggingface-hub>=0.7.0->evaluate) (5.3.1)\n",
      "Requirement already satisfied: filelock in /home/webs8328/.local/lib/python3.8/site-packages (from huggingface-hub>=0.7.0->evaluate) (3.9.0)\n",
      "Requirement already satisfied: typing-extensions>=3.7.4.3 in /home/webs8328/.local/lib/python3.8/site-packages (from huggingface-hub>=0.7.0->evaluate) (4.8.0)\n",
      "Requirement already satisfied: pyarrow>=8.0.0 in /home/webs8328/.local/lib/python3.8/site-packages (from datasets>=2.0.0->evaluate) (14.0.1)\n",
      "Requirement already satisfied: aiohttp in /home/webs8328/.local/lib/python3.8/site-packages (from datasets>=2.0.0->evaluate) (3.9.0)\n",
      "Requirement already satisfied: pyarrow-hotfix in /home/webs8328/.local/lib/python3.8/site-packages (from datasets>=2.0.0->evaluate) (0.6)\n",
      "Requirement already satisfied: idna<4,>=2.5 in /usr/lib/python3/dist-packages (from requests>=2.19.0->evaluate) (2.8)\n",
      "Requirement already satisfied: charset-normalizer<4,>=2 in /home/webs8328/.local/lib/python3.8/site-packages (from requests>=2.19.0->evaluate) (3.3.2)\n",
      "Requirement already satisfied: certifi>=2017.4.17 in /usr/lib/python3/dist-packages (from requests>=2.19.0->evaluate) (2019.11.28)\n",
      "Requirement already satisfied: six>=1.5 in /usr/lib/python3/dist-packages (from python-dateutil>=2.8.2->pandas->evaluate) (1.14.0)\n",
      "Requirement already satisfied: multidict<7.0,>=4.5 in /home/webs8328/.local/lib/python3.8/site-packages (from aiohttp->datasets>=2.0.0->evaluate) (6.0.4)\n",
      "Requirement already satisfied: async-timeout<5.0,>=4.0; python_version < \"3.11\" in /home/webs8328/.local/lib/python3.8/site-packages (from aiohttp->datasets>=2.0.0->evaluate) (4.0.3)\n",
      "Requirement already satisfied: attrs>=17.3.0 in /home/webs8328/.local/lib/python3.8/site-packages (from aiohttp->datasets>=2.0.0->evaluate) (23.1.0)\n"
     ]
    },
    {
     "name": "stdout",
     "output_type": "stream",
     "text": [
      "Requirement already satisfied: frozenlist>=1.1.1 in /home/webs8328/.local/lib/python3.8/site-packages (from aiohttp->datasets>=2.0.0->evaluate) (1.4.0)\n",
      "Requirement already satisfied: aiosignal>=1.1.2 in /home/webs8328/.local/lib/python3.8/site-packages (from aiohttp->datasets>=2.0.0->evaluate) (1.3.1)\n",
      "Requirement already satisfied: yarl<2.0,>=1.0 in /home/webs8328/.local/lib/python3.8/site-packages (from aiohttp->datasets>=2.0.0->evaluate) (1.9.3)\n",
      "Requirement already satisfied: scipy in /home/webs8328/.local/lib/python3.8/site-packages (1.10.1)\n",
      "Requirement already satisfied: numpy<1.27.0,>=1.19.5 in /home/webs8328/.local/lib/python3.8/site-packages (from scipy) (1.24.1)\n",
      "Requirement already up-to-date: scikit-learn in /home/webs8328/.local/lib/python3.8/site-packages (1.3.2)\n",
      "Requirement already satisfied, skipping upgrade: scipy>=1.5.0 in /home/webs8328/.local/lib/python3.8/site-packages (from scikit-learn) (1.10.1)\n",
      "Requirement already satisfied, skipping upgrade: threadpoolctl>=2.0.0 in /home/webs8328/.local/lib/python3.8/site-packages (from scikit-learn) (3.2.0)\n",
      "Requirement already satisfied, skipping upgrade: joblib>=1.1.1 in /home/webs8328/.local/lib/python3.8/site-packages (from scikit-learn) (1.3.2)\n",
      "Requirement already satisfied, skipping upgrade: numpy<2.0,>=1.17.3 in /home/webs8328/.local/lib/python3.8/site-packages (from scikit-learn) (1.24.1)\n",
      "Requirement already satisfied: tensorboard in /home/webs8328/.local/lib/python3.8/site-packages (2.14.0)\n",
      "Requirement already satisfied: tensorboard-data-server<0.8.0,>=0.7.0 in /home/webs8328/.local/lib/python3.8/site-packages (from tensorboard) (0.7.2)\n",
      "Requirement already satisfied: numpy>=1.12.0 in /home/webs8328/.local/lib/python3.8/site-packages (from tensorboard) (1.24.1)\n",
      "Requirement already satisfied: requests<3,>=2.21.0 in /home/webs8328/.local/lib/python3.8/site-packages (from tensorboard) (2.31.0)\n",
      "Requirement already satisfied: setuptools>=41.0.0 in /usr/lib/python3/dist-packages (from tensorboard) (45.2.0)\n",
      "Requirement already satisfied: werkzeug>=1.0.1 in /home/webs8328/.local/lib/python3.8/site-packages (from tensorboard) (3.0.1)\n",
      "Requirement already satisfied: google-auth-oauthlib<1.1,>=0.5 in /home/webs8328/.local/lib/python3.8/site-packages (from tensorboard) (1.0.0)\n",
      "Requirement already satisfied: absl-py>=0.4 in /home/webs8328/.local/lib/python3.8/site-packages (from tensorboard) (2.0.0)\n",
      "Requirement already satisfied: grpcio>=1.48.2 in /home/webs8328/.local/lib/python3.8/site-packages (from tensorboard) (1.59.3)\n",
      "Requirement already satisfied: protobuf>=3.19.6 in /home/webs8328/.local/lib/python3.8/site-packages (from tensorboard) (4.25.1)\n",
      "Requirement already satisfied: markdown>=2.6.8 in /home/webs8328/.local/lib/python3.8/site-packages (from tensorboard) (3.5.1)\n",
      "Requirement already satisfied: google-auth<3,>=1.6.3 in /home/webs8328/.local/lib/python3.8/site-packages (from tensorboard) (2.23.4)\n",
      "Requirement already satisfied: wheel>=0.26 in /usr/lib/python3/dist-packages (from tensorboard) (0.34.2)\n",
      "Requirement already satisfied: idna<4,>=2.5 in /usr/lib/python3/dist-packages (from requests<3,>=2.21.0->tensorboard) (2.8)\n",
      "Requirement already satisfied: charset-normalizer<4,>=2 in /home/webs8328/.local/lib/python3.8/site-packages (from requests<3,>=2.21.0->tensorboard) (3.3.2)\n",
      "Requirement already satisfied: urllib3<3,>=1.21.1 in /home/webs8328/.local/lib/python3.8/site-packages (from requests<3,>=2.21.0->tensorboard) (2.1.0)\n",
      "Requirement already satisfied: certifi>=2017.4.17 in /usr/lib/python3/dist-packages (from requests<3,>=2.21.0->tensorboard) (2019.11.28)\n",
      "Requirement already satisfied: MarkupSafe>=2.1.1 in /home/webs8328/.local/lib/python3.8/site-packages (from werkzeug>=1.0.1->tensorboard) (2.1.3)\n",
      "Requirement already satisfied: requests-oauthlib>=0.7.0 in /home/webs8328/.local/lib/python3.8/site-packages (from google-auth-oauthlib<1.1,>=0.5->tensorboard) (1.3.1)\n",
      "Requirement already satisfied: importlib-metadata>=4.4; python_version < \"3.10\" in /home/webs8328/.local/lib/python3.8/site-packages (from markdown>=2.6.8->tensorboard) (6.8.0)\n",
      "Requirement already satisfied: cachetools<6.0,>=2.0.0 in /home/webs8328/.local/lib/python3.8/site-packages (from google-auth<3,>=1.6.3->tensorboard) (5.3.2)\n",
      "Requirement already satisfied: rsa<5,>=3.1.4 in /home/webs8328/.local/lib/python3.8/site-packages (from google-auth<3,>=1.6.3->tensorboard) (4.9)\n",
      "Requirement already satisfied: pyasn1-modules>=0.2.1 in /usr/lib/python3/dist-packages (from google-auth<3,>=1.6.3->tensorboard) (0.2.1)\n",
      "Requirement already satisfied: oauthlib>=3.0.0 in /usr/lib/python3/dist-packages (from requests-oauthlib>=0.7.0->google-auth-oauthlib<1.1,>=0.5->tensorboard) (3.1.0)\n",
      "Requirement already satisfied: zipp>=0.5 in /home/webs8328/.local/lib/python3.8/site-packages (from importlib-metadata>=4.4; python_version < \"3.10\"->markdown>=2.6.8->tensorboard) (3.17.0)\n",
      "Requirement already satisfied: pyasn1>=0.1.3 in /usr/lib/python3/dist-packages (from rsa<5,>=3.1.4->google-auth<3,>=1.6.3->tensorboard) (0.4.2)\n"
     ]
    }
   ],
   "source": [
    "!pip install datasets\n",
    "!pip install matplotlib\n",
    "!pip install evaluate\n",
    "!pip install scipy\n",
    "!pip install -U scikit-learn\n",
    "!pip install tensorboard"
   ]
  },
  {
   "cell_type": "code",
   "execution_count": 14,
   "id": "f8cd90c2",
   "metadata": {},
   "outputs": [
    {
     "data": {
      "text/plain": [
       "<module 'PlottingUtils' from '/home/webs8328/cs182_proj/gpt_code/PlottingUtils.py'>"
      ]
     },
     "execution_count": 14,
     "metadata": {},
     "output_type": "execute_result"
    }
   ],
   "source": [
    "import LoRATuner as lt\n",
    "from peft import LoraConfig\n",
    "import PlottingUtils as pu\n",
    "\n",
    "import importlib\n",
    "importlib.reload(lt)\n",
    "importlib.reload(pu)"
   ]
  },
  {
   "cell_type": "code",
   "execution_count": 55,
   "id": "7f03a977",
   "metadata": {},
   "outputs": [
    {
     "name": "stdout",
     "output_type": "stream",
     "text": [
      "trainable params: 124439808 || all params: 124439808 || trainable%: 100.00\n"
     ]
    }
   ],
   "source": [
    "lora_tuner = lt.LoRATuner(\"gpt2\", 42)\n",
    "lora_tuner.print_num_trainable_features()"
   ]
  },
  {
   "cell_type": "code",
   "execution_count": 56,
   "id": "fcf6871c",
   "metadata": {},
   "outputs": [],
   "source": [
    "config = LoraConfig(\n",
    "        r=32, # EDIT\n",
    "        lora_alpha=32,\n",
    "        # target_modules=[\"attn/c_attn\", \"attn/c_proj\", \"mlp/c_fc\", \"mlp/c_proj\"], # EDIT\n",
    "        target_modules=[\"c_proj\", \"c_attn\", \"mlp/c_fc\", \"mlp/c_proj\"],\n",
    "        lora_dropout=0.1,\n",
    "        bias=\"lora_only\",\n",
    "        modules_to_save=[\"decode_head\"],\n",
    "    )"
   ]
  },
  {
   "cell_type": "code",
   "execution_count": null,
   "id": "556f18f9",
   "metadata": {},
   "outputs": [
    {
     "name": "stderr",
     "output_type": "stream",
     "text": [
      "/home/webs8328/.local/lib/python3.8/site-packages/peft/tuners/lora/model.py:302: UserWarning: fan_in_fan_out is set to False but the target module is `Conv1D`. Setting fan_in_fan_out to True.\n",
      "  warnings.warn(\n",
      "/home/webs8328/.local/lib/python3.8/site-packages/transformers/data/datasets/language_modeling.py:53: FutureWarning: This dataset will be removed from the library soon, preprocessing should be handled with the 🤗 Datasets library. You can have a look at this example script for pointers: https://github.com/huggingface/transformers/blob/main/examples/pytorch/language-modeling/run_mlm.py\n",
      "  warnings.warn(\n"
     ]
    },
    {
     "name": "stdout",
     "output_type": "stream",
     "text": [
      "./logs/test_output3\n"
     ]
    },
    {
     "data": {
      "text/html": [
       "\n",
       "    <div>\n",
       "      \n",
       "      <progress value='101' max='1000' style='width:300px; height:20px; vertical-align: middle;'></progress>\n",
       "      [ 101/1000 00:26 < 04:01, 3.72 it/s, Epoch 0.04/1]\n",
       "    </div>\n",
       "    <table border=\"1\" class=\"dataframe\">\n",
       "  <thead>\n",
       " <tr style=\"text-align: left;\">\n",
       "      <th>Step</th>\n",
       "      <th>Training Loss</th>\n",
       "      <th>Validation Loss</th>\n",
       "    </tr>\n",
       "  </thead>\n",
       "  <tbody>\n",
       "  </tbody>\n",
       "</table><p>\n",
       "    <div>\n",
       "      \n",
       "      <progress value='3' max='3' style='width:300px; height:20px; vertical-align: middle;'></progress>\n",
       "      [3/3 00:00]\n",
       "    </div>\n",
       "    "
      ],
      "text/plain": [
       "<IPython.core.display.HTML object>"
      ]
     },
     "metadata": {},
     "output_type": "display_data"
    }
   ],
   "source": [
    "lora_tuner.tune(\"train_text.txt\", \"val_data_final_lite.txt\", \"test_output3\", config, save_steps = 100, eval_steps = 100, logging_steps = 100, max_steps = 1000, seed = 42)\n"
   ]
  },
  {
   "cell_type": "code",
   "execution_count": 6,
   "id": "4fbc77c2",
   "metadata": {},
   "outputs": [],
   "source": [
    "pipe = lt.LoRATuner.create_pipeline(\"test_output3/checkpoint-1000\")\n"
   ]
  },
  {
   "cell_type": "code",
   "execution_count": 12,
   "id": "d9405f57",
   "metadata": {},
   "outputs": [
    {
     "name": "stderr",
     "output_type": "stream",
     "text": [
      "Setting `pad_token_id` to `eos_token_id`:50256 for open-end generation.\n"
     ]
    },
    {
     "name": "stdout",
     "output_type": "stream",
     "text": [
      "User: Tell me about the French Revolution.\n",
      "Yoda: A year earlier, the French Revolution involved many people, many times. In the process, many people lost their personal lives. \n",
      "\n"
     ]
    }
   ],
   "source": [
    "print(lt.LoRATuner.get_response(pipe, \"User: Tell me about the French Revolution\", 10190))"
   ]
  },
  {
   "cell_type": "code",
   "execution_count": 52,
   "id": "0e166af0",
   "metadata": {},
   "outputs": [
    {
     "name": "stdout",
     "output_type": "stream",
     "text": [
      "['train/loss', 'train/learning_rate', 'train/epoch', 'eval/loss', 'eval/runtime', 'eval/samples_per_second', 'eval/steps_per_second', 'train/train_runtime', 'train/train_samples_per_second', 'train/train_steps_per_second', 'train/total_flos', 'train/train_loss']\n"
     ]
    }
   ],
   "source": [
    "plotter = pu.Plotter(\"test_output3\")\n",
    "plotter.print_potential_scalars()"
   ]
  },
  {
   "cell_type": "code",
   "execution_count": 53,
   "id": "cd9dda2d",
   "metadata": {},
   "outputs": [
    {
     "name": "stdout",
     "output_type": "stream",
     "text": [
      "[2.6639657020568848, 2.2315444946289062, 2.1264185905456543, 2.074362277984619, 2.0384199619293213, 2.0224955081939697, 2.01057767868042, 2.0036661624908447, 1.9998613595962524, 1.9982343912124634]\n"
     ]
    },
    {
     "data": {
      "image/png": "[encoded data removed]",
      "text/plain": [
       "<Figure size 640x480 with 1 Axes>"
      ]
     },
     "metadata": {},
     "output_type": "display_data"
    }
   ],
   "source": [
    "plotter.plot_scalars(['eval/loss'])"
   ]
  },
  {
   "cell_type": "code",
   "execution_count": null,
   "id": "a67a16f1",
   "metadata": {},
   "outputs": [
    {
     "name": "stderr",
     "output_type": "stream",
     "text": [
      "/home/webs8328/.local/lib/python3.8/site-packages/peft/tuners/lora/model.py:302: UserWarning: fan_in_fan_out is set to False but the target module is `Conv1D`. Setting fan_in_fan_out to True.\n",
      "  warnings.warn(\n",
      "/home/webs8328/.local/lib/python3.8/site-packages/transformers/data/datasets/language_modeling.py:53: FutureWarning: This dataset will be removed from the library soon, preprocessing should be handled with the 🤗 Datasets library. You can have a look at this example script for pointers: https://github.com/huggingface/transformers/blob/main/examples/pytorch/language-modeling/run_mlm.py\n",
      "  warnings.warn(\n"
     ]
    },
    {
     "name": "stdout",
     "output_type": "stream",
     "text": [
      "./logs/Attention_dim_1\n"
     ]
    },
    {
     "data": {
      "text/html": [
       "\n",
       "    <div>\n",
       "      \n",
       "      <progress value='1759' max='5000' style='width:300px; height:20px; vertical-align: middle;'></progress>\n",
       "      [1759/5000 12:07 < 22:22, 2.41 it/s, Epoch 0.66/2]\n",
       "    </div>\n",
       "    <table border=\"1\" class=\"dataframe\">\n",
       "  <thead>\n",
       " <tr style=\"text-align: left;\">\n",
       "      <th>Step</th>\n",
       "      <th>Training Loss</th>\n",
       "      <th>Validation Loss</th>\n",
       "    </tr>\n",
       "  </thead>\n",
       "  <tbody>\n",
       "    <tr>\n",
       "      <td>100</td>\n",
       "      <td>3.685100</td>\n",
       "      <td>2.687569</td>\n",
       "    </tr>\n",
       "    <tr>\n",
       "      <td>200</td>\n",
       "      <td>2.554500</td>\n",
       "      <td>2.284773</td>\n",
       "    </tr>\n",
       "    <tr>\n",
       "      <td>300</td>\n",
       "      <td>2.351700</td>\n",
       "      <td>2.187069</td>\n",
       "    </tr>\n",
       "    <tr>\n",
       "      <td>400</td>\n",
       "      <td>2.256900</td>\n",
       "      <td>2.140419</td>\n",
       "    </tr>\n",
       "    <tr>\n",
       "      <td>500</td>\n",
       "      <td>2.212300</td>\n",
       "      <td>2.107380</td>\n",
       "    </tr>\n",
       "    <tr>\n",
       "      <td>600</td>\n",
       "      <td>2.172600</td>\n",
       "      <td>2.084764</td>\n",
       "    </tr>\n",
       "    <tr>\n",
       "      <td>700</td>\n",
       "      <td>2.169900</td>\n",
       "      <td>2.068326</td>\n",
       "    </tr>\n",
       "    <tr>\n",
       "      <td>800</td>\n",
       "      <td>2.144600</td>\n",
       "      <td>2.056535</td>\n",
       "    </tr>\n",
       "    <tr>\n",
       "      <td>900</td>\n",
       "      <td>2.120400</td>\n",
       "      <td>2.050687</td>\n",
       "    </tr>\n",
       "    <tr>\n",
       "      <td>1000</td>\n",
       "      <td>2.093100</td>\n",
       "      <td>2.039021</td>\n",
       "    </tr>\n",
       "    <tr>\n",
       "      <td>1100</td>\n",
       "      <td>2.119500</td>\n",
       "      <td>2.032268</td>\n",
       "    </tr>\n",
       "    <tr>\n",
       "      <td>1200</td>\n",
       "      <td>2.111500</td>\n",
       "      <td>2.022288</td>\n",
       "    </tr>\n",
       "    <tr>\n",
       "      <td>1300</td>\n",
       "      <td>2.108900</td>\n",
       "      <td>2.018073</td>\n",
       "    </tr>\n",
       "    <tr>\n",
       "      <td>1400</td>\n",
       "      <td>2.110200</td>\n",
       "      <td>2.015574</td>\n",
       "    </tr>\n",
       "    <tr>\n",
       "      <td>1500</td>\n",
       "      <td>2.087500</td>\n",
       "      <td>2.007940</td>\n",
       "    </tr>\n",
       "    <tr>\n",
       "      <td>1600</td>\n",
       "      <td>2.092300</td>\n",
       "      <td>2.004612</td>\n",
       "    </tr>\n",
       "    <tr>\n",
       "      <td>1700</td>\n",
       "      <td>2.069900</td>\n",
       "      <td>2.001713</td>\n",
       "    </tr>\n",
       "  </tbody>\n",
       "</table><p>"
      ],
      "text/plain": [
       "<IPython.core.display.HTML object>"
      ]
     },
     "metadata": {},
     "output_type": "display_data"
    }
   ],
   "source": [
    "attention_dim_vals = [1, 2, 4, 8, 16, 32, 64, 128]\n",
    "for i in attention_dim_vals:\n",
    "    lora_tuner = lt.LoRATuner(\"gpt2\", 42)\n",
    "    config = LoraConfig(\n",
    "        r=i, # EDIT\n",
    "        lora_alpha=32,\n",
    "        # target_modules=[\"attn/c_attn\", \"attn/c_proj\", \"mlp/c_fc\", \"mlp/c_proj\"], # EDIT\n",
    "        target_modules=[\"c_proj\", \"c_attn\", \"mlp/c_fc\", \"mlp/c_proj\"],\n",
    "        lora_dropout=0.1,\n",
    "        bias=\"lora_only\",\n",
    "        modules_to_save=[\"decode_head\"],\n",
    "    )\n",
    "    lora_tuner.tune(\"train_text.txt\", \"val_data_medium.txt\", \"Attention_dim_\" + str(i), config, save_steps = 500, eval_steps = 100, logging_steps = 100, max_steps = 5000, seed = 42)\n"
   ]
  },
  {
   "cell_type": "code",
   "execution_count": null,
   "id": "2eeb1279",
   "metadata": {},
   "outputs": [],
   "source": []
  }
 ],
 "metadata": {
  "kernelspec": {
   "display_name": "Python 3 (ipykernel)",
   "language": "python",
   "name": "python3"
  },
  "language_info": {
   "codemirror_mode": {
    "name": "ipython",
    "version": 3
   },
   "file_extension": ".py",
   "mimetype": "text/x-python",
   "name": "python",
   "nbconvert_exporter": "python",
   "pygments_lexer": "ipython3",
   "version": "3.8.10"
  }
 },
 "nbformat": 4,
 "nbformat_minor": 5
}
